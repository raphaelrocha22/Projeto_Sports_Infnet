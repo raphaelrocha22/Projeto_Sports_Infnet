{
 "cells": [
  {
   "cell_type": "markdown",
   "metadata": {},
   "source": [
    "Importando Pacotes"
   ]
  },
  {
   "cell_type": "code",
   "execution_count": 2,
   "metadata": {},
   "outputs": [],
   "source": [
    "# !pip install -r requirements.txt"
   ]
  },
  {
   "cell_type": "code",
   "execution_count": 3,
   "metadata": {},
   "outputs": [],
   "source": [
    "from joblib import load\n",
    "import pandas as pd\n",
    "import numpy as np\n",
    "from datetime import datetime\n",
    "from sklearn.preprocessing import  MinMaxScaler"
   ]
  },
  {
   "cell_type": "markdown",
   "metadata": {},
   "source": [
    "Configurações do codigo"
   ]
  },
  {
   "cell_type": "code",
   "execution_count": 4,
   "metadata": {},
   "outputs": [],
   "source": [
    "pd.set_option('display.max_columns', None)\n",
    "season = 2023"
   ]
  },
  {
   "cell_type": "markdown",
   "metadata": {},
   "source": [
    "### Aplicação do Modelo"
   ]
  },
  {
   "cell_type": "code",
   "execution_count": 5,
   "metadata": {},
   "outputs": [],
   "source": [
    "model = load(f'modelos/modelo_regressao_logistica_brasileirao_{season}.joblib')"
   ]
  },
  {
   "cell_type": "code",
   "execution_count": 6,
   "metadata": {},
   "outputs": [],
   "source": [
    "def generate_df_feature_label(df:pd.DataFrame, normalize=False):\n",
    "    global list_columns\n",
    "\n",
    "    _list = ['teams.home.id', 'score.halftime.home', 'home.pf.drw', 'home.pf.win', 'home.pf.los',\n",
    "             'home.BLPS', 'home.BSH', 'home.CK', 'home.EXPGL', 'home.GKSV',\n",
    "             'home.OFSD', 'home.RCD', 'home.SHFG', 'home.SHIN',\n",
    "             'home.SHOG', 'home.SHOU'\n",
    "          ]\n",
    "    list_columns = _list + [x.replace('home', 'away') for x in _list] + ['HTR']\n",
    "\n",
    "    features = df[list_columns]\n",
    "    labels =  df[['result']]\n",
    "\n",
    "    if normalize:\n",
    "        features = pd.DataFrame(MinMaxScaler().fit_transform(features), columns=features.columns)\n",
    "        labels = pd.DataFrame(MinMaxScaler().fit_transform(labels), columns=labels.columns).astype('str')\n",
    "\n",
    "    return features, labels"
   ]
  },
  {
   "cell_type": "code",
   "execution_count": 7,
   "metadata": {},
   "outputs": [],
   "source": [
    "df_previsao = pd.read_excel('data/trusted/base_brasileirao_2023.xlsx')\n",
    "df_previsao = df_previsao[df_previsao['league.round'] >= 35]"
   ]
  },
  {
   "cell_type": "code",
   "execution_count": 8,
   "metadata": {},
   "outputs": [],
   "source": [
    "X, y = generate_df_feature_label(df_previsao, True)"
   ]
  },
  {
   "cell_type": "code",
   "execution_count": 9,
   "metadata": {},
   "outputs": [],
   "source": [
    "df_previsao['previsao'] = model.predict(X)\n",
    "\n",
    "df_previsao['previsao_time'] = \\\n",
    "    np.where( df_previsao['previsao'] == '1.0', df_previsao['teams.home.name'],\n",
    "    np.where( df_previsao['previsao'] == '0.0', df_previsao['teams.away.name'],\n",
    "    np.where( df_previsao['previsao'] == '0.5', 'Empate',\n",
    "    None)))\n",
    "\n",
    "df_previsao['halftime_score'] = df_previsao[[\"score.halftime.home\", \"score.halftime.away\"]]\\\n",
    "                                    .astype('str')\\\n",
    "                                    .apply(\"x\".join, axis=1)\n",
    "\n",
    "df_previsao['fulltime_score'] = df_previsao[[\"score.fulltime.home\", \"score.fulltime.away\"]]\\\n",
    "                                    .astype('str')\\\n",
    "                                    .apply(\"x\".join, axis=1)"
   ]
  },
  {
   "cell_type": "code",
   "execution_count": 10,
   "metadata": {},
   "outputs": [],
   "source": [
    "df_previsao = df_previsao[[\n",
    "    'fixture.date', 'league.round', 'teams.home.name', 'teams.away.name',\n",
    "    'previsao', 'previsao_time', 'result.team', 'halftime_score', 'fulltime_score',\n",
    "    'home.pf.drw', 'home.pf.win', 'home.pf.los', 'away.pf.drw', 'away.pf.win',\n",
    "    'away.pf.los', 'home.BLPS', 'home.BSH', 'home.CK', 'home.EXPGL', 'home.FOU',\n",
    "    'home.GKSV', 'home.OFSD', 'home.PAS%', 'home.PASAC', 'home.RCD', 'home.SHFG',\n",
    "    'home.SHIN', 'home.SHOG', 'home.SHOU', 'home.TPAS', 'home.TSH', 'home.YCD',\n",
    "    'away.BLPS', 'away.BSH', 'away.CK', 'away.EXPGL', 'away.FOU',\n",
    "    'away.GKSV', 'away.OFSD', 'away.PAS%', 'away.PASAC', 'away.RCD',\n",
    "    'away.SHFG', 'away.SHIN', 'away.SHOG', 'away.SHOU', 'away.TPAS',\n",
    "    'away.TSH', 'away.YCD'\n",
    "]]"
   ]
  },
  {
   "cell_type": "markdown",
   "metadata": {},
   "source": [
    "### Output Resultados"
   ]
  },
  {
   "cell_type": "code",
   "execution_count": 11,
   "metadata": {},
   "outputs": [],
   "source": [
    "df_previsao.to_excel(\n",
    "    f'data/refined/previsao_brasileirao_{season}/predict_{datetime.now().strftime('%y%m%d %H%M%S')}.xlsx',\n",
    "    index=False\n",
    ")"
   ]
  },
  {
   "cell_type": "code",
   "execution_count": 12,
   "metadata": {},
   "outputs": [
    {
     "name": "stdout",
     "output_type": "stream",
     "text": [
      "accuracy: 0.75\n"
     ]
    }
   ],
   "source": [
    "scores = model.score(X, y)\n",
    "print('accuracy: {:.2f}'.format(scores.mean()))"
   ]
  }
 ],
 "metadata": {
  "kernelspec": {
   "display_name": "infnetSports",
   "language": "python",
   "name": "python3"
  },
  "language_info": {
   "codemirror_mode": {
    "name": "ipython",
    "version": 3
   },
   "file_extension": ".py",
   "mimetype": "text/x-python",
   "name": "python",
   "nbconvert_exporter": "python",
   "pygments_lexer": "ipython3",
   "version": "3.12.0"
  }
 },
 "nbformat": 4,
 "nbformat_minor": 2
}
