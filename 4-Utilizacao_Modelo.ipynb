{
 "cells": [
  {
   "cell_type": "markdown",
   "metadata": {},
   "source": [
    "Importando Pacotes"
   ]
  },
  {
   "cell_type": "code",
   "execution_count": 3,
   "metadata": {},
   "outputs": [],
   "source": [
    "# !pip install -r requirements.txt"
   ]
  },
  {
   "cell_type": "code",
   "execution_count": 1,
   "metadata": {},
   "outputs": [],
   "source": [
    "from joblib import load\n",
    "import pandas as pd\n",
    "import numpy as np\n",
    "from datetime import datetime\n",
    "from sklearn.preprocessing import  MinMaxScaler"
   ]
  },
  {
   "cell_type": "markdown",
   "metadata": {},
   "source": [
    "Configurações do codigo"
   ]
  },
  {
   "cell_type": "code",
   "execution_count": 2,
   "metadata": {},
   "outputs": [],
   "source": [
    "season = 2023"
   ]
  },
  {
   "cell_type": "markdown",
   "metadata": {},
   "source": [
    "### Aplicação do Modelo"
   ]
  },
  {
   "cell_type": "code",
   "execution_count": 3,
   "metadata": {},
   "outputs": [],
   "source": [
    "model = load(f'modelos/modelo_arvore_decisao_brasileirao_{season}.joblib')"
   ]
  },
  {
   "cell_type": "code",
   "execution_count": 4,
   "metadata": {},
   "outputs": [],
   "source": [
    "def generate_df_feature_label(df:pd.DataFrame):\n",
    "\n",
    "    _list = ['teams.home.id', 'score.halftime.home', 'home.pf.drw', 'home.pf.win', 'home.pf.los',\n",
    "             'home.BLPS', 'home.BSH', 'home.CK', 'home.EXPGL', 'home.GKSV',\n",
    "             'home.OFSD', 'home.RCD', 'home.SHFG', 'home.SHIN',\n",
    "             'home.SHOG', 'home.SHOU'\n",
    "          ]\n",
    "    list_features = _list + [x.replace('home', 'away') for x in _list] + ['HTR']\n",
    "\n",
    "    features = df[list_features]\n",
    "    features = MinMaxScaler().fit(features).transform(features)\n",
    "    labels = df['result']\n",
    "\n",
    "    return features, labels"
   ]
  },
  {
   "cell_type": "code",
   "execution_count": 7,
   "metadata": {},
   "outputs": [],
   "source": [
    "df_previsao = pd.read_excel('data/trusted/base_brasileirao_2023.xlsx')\n",
    "df_previsao = df_previsao[df_previsao['league.round'] >= 28]"
   ]
  },
  {
   "cell_type": "code",
   "execution_count": 9,
   "metadata": {},
   "outputs": [],
   "source": [
    "X, y = generate_df_feature_label(df_previsao)\n",
    "X = MinMaxScaler().fit(X).transform(X)"
   ]
  },
  {
   "cell_type": "code",
   "execution_count": 10,
   "metadata": {},
   "outputs": [
    {
     "name": "stderr",
     "output_type": "stream",
     "text": [
      "c:\\Users\\BlueShift\\miniconda3\\envs\\infnetSports\\Lib\\site-packages\\sklearn\\base.py:465: UserWarning: X does not have valid feature names, but DecisionTreeClassifier was fitted with feature names\n",
      "  warnings.warn(\n"
     ]
    }
   ],
   "source": [
    "df_previsao['previsao'] = model.predict(X)\n",
    "\n",
    "df_previsao['previsao_time'] = \\\n",
    "    np.where( df_previsao['previsao'] == 1, df_previsao['teams.home.name'],\n",
    "    np.where( df_previsao['previsao'] == 2, df_previsao['teams.away.name'],\n",
    "    np.where( df_previsao['previsao'] == 0, 'Empate',\n",
    "    None)))\n",
    "\n",
    "df_previsao['halftime_score'] = df_previsao[[\"score.halftime.home\", \"score.halftime.away\"]]\\\n",
    "                                    .astype('str')\\\n",
    "                                    .apply(\"x\".join, axis=1)\n",
    "\n",
    "df_previsao['fulltime_score'] = df_previsao[[\"score.fulltime.home\", \"score.fulltime.away\"]]\\\n",
    "                                    .astype('str')\\\n",
    "                                    .apply(\"x\".join, axis=1)"
   ]
  },
  {
   "cell_type": "code",
   "execution_count": 11,
   "metadata": {},
   "outputs": [],
   "source": [
    "df_previsao = df_previsao[[\n",
    "    'fixture.date', 'league.round', 'teams.home.name', 'teams.away.name',\n",
    "    'previsao_time', 'result.team', 'halftime_score', 'fulltime_score',\n",
    "    'home.pf.drw', 'home.pf.win', 'home.pf.los', 'away.pf.drw', 'away.pf.win',\n",
    "    'away.pf.los', 'home.BLPS', 'home.BSH', 'home.CK', 'home.EXPGL', 'home.FOU',\n",
    "    'home.GKSV', 'home.OFSD', 'home.PAS%', 'home.PASAC', 'home.RCD', 'home.SHFG',\n",
    "    'home.SHIN', 'home.SHOG', 'home.SHOU', 'home.TPAS', 'home.TSH', 'home.YCD',\n",
    "    'away.BLPS', 'away.BSH', 'away.CK', 'away.EXPGL', 'away.FOU',\n",
    "    'away.GKSV', 'away.OFSD', 'away.PAS%', 'away.PASAC', 'away.RCD',\n",
    "    'away.SHFG', 'away.SHIN', 'away.SHOG', 'away.SHOU', 'away.TPAS',\n",
    "    'away.TSH', 'away.YCD'\n",
    "]]"
   ]
  },
  {
   "cell_type": "code",
   "execution_count": 15,
   "metadata": {},
   "outputs": [
    {
     "data": {
      "text/html": [
       "<div>\n",
       "<style scoped>\n",
       "    .dataframe tbody tr th:only-of-type {\n",
       "        vertical-align: middle;\n",
       "    }\n",
       "\n",
       "    .dataframe tbody tr th {\n",
       "        vertical-align: top;\n",
       "    }\n",
       "\n",
       "    .dataframe thead th {\n",
       "        text-align: right;\n",
       "    }\n",
       "</style>\n",
       "<table border=\"1\" class=\"dataframe\">\n",
       "  <thead>\n",
       "    <tr style=\"text-align: right;\">\n",
       "      <th></th>\n",
       "      <th>fixture.date</th>\n",
       "      <th>league.round</th>\n",
       "      <th>teams.home.name</th>\n",
       "      <th>teams.away.name</th>\n",
       "      <th>previsao_time</th>\n",
       "      <th>result.team</th>\n",
       "      <th>halftime_score</th>\n",
       "      <th>fulltime_score</th>\n",
       "      <th>home.pf.drw</th>\n",
       "      <th>home.pf.win</th>\n",
       "      <th>...</th>\n",
       "      <th>away.PAS%</th>\n",
       "      <th>away.PASAC</th>\n",
       "      <th>away.RCD</th>\n",
       "      <th>away.SHFG</th>\n",
       "      <th>away.SHIN</th>\n",
       "      <th>away.SHOG</th>\n",
       "      <th>away.SHOU</th>\n",
       "      <th>away.TPAS</th>\n",
       "      <th>away.TSH</th>\n",
       "      <th>away.YCD</th>\n",
       "    </tr>\n",
       "  </thead>\n",
       "  <tbody>\n",
       "    <tr>\n",
       "      <th>270</th>\n",
       "      <td>2023-10-22</td>\n",
       "      <td>28</td>\n",
       "      <td>Flamengo</td>\n",
       "      <td>Vasco DA Gama</td>\n",
       "      <td>Flamengo</td>\n",
       "      <td>Flamengo</td>\n",
       "      <td>0x0</td>\n",
       "      <td>1x0</td>\n",
       "      <td>0.33</td>\n",
       "      <td>0.33</td>\n",
       "      <td>...</td>\n",
       "      <td>83</td>\n",
       "      <td>353</td>\n",
       "      <td>0</td>\n",
       "      <td>4</td>\n",
       "      <td>12</td>\n",
       "      <td>7</td>\n",
       "      <td>5</td>\n",
       "      <td>427</td>\n",
       "      <td>17</td>\n",
       "      <td>2</td>\n",
       "    </tr>\n",
       "    <tr>\n",
       "      <th>271</th>\n",
       "      <td>2023-10-21</td>\n",
       "      <td>28</td>\n",
       "      <td>Botafogo</td>\n",
       "      <td>Atletico Paranaense</td>\n",
       "      <td>Botafogo</td>\n",
       "      <td>Empate</td>\n",
       "      <td>1x1</td>\n",
       "      <td>1x1</td>\n",
       "      <td>0.33</td>\n",
       "      <td>0.33</td>\n",
       "      <td>...</td>\n",
       "      <td>77</td>\n",
       "      <td>156</td>\n",
       "      <td>0</td>\n",
       "      <td>4</td>\n",
       "      <td>2</td>\n",
       "      <td>1</td>\n",
       "      <td>4</td>\n",
       "      <td>202</td>\n",
       "      <td>6</td>\n",
       "      <td>1</td>\n",
       "    </tr>\n",
       "    <tr>\n",
       "      <th>272</th>\n",
       "      <td>2023-10-21</td>\n",
       "      <td>28</td>\n",
       "      <td>Sao Paulo</td>\n",
       "      <td>Gremio</td>\n",
       "      <td>Sao Paulo</td>\n",
       "      <td>Sao Paulo</td>\n",
       "      <td>1x0</td>\n",
       "      <td>3x0</td>\n",
       "      <td>0.00</td>\n",
       "      <td>0.67</td>\n",
       "      <td>...</td>\n",
       "      <td>71</td>\n",
       "      <td>237</td>\n",
       "      <td>0</td>\n",
       "      <td>0</td>\n",
       "      <td>0</td>\n",
       "      <td>2</td>\n",
       "      <td>3</td>\n",
       "      <td>333</td>\n",
       "      <td>3</td>\n",
       "      <td>3</td>\n",
       "    </tr>\n",
       "    <tr>\n",
       "      <th>273</th>\n",
       "      <td>2023-10-22</td>\n",
       "      <td>28</td>\n",
       "      <td>Corinthians</td>\n",
       "      <td>America Mineiro</td>\n",
       "      <td>Corinthians</td>\n",
       "      <td>Empate</td>\n",
       "      <td>0x1</td>\n",
       "      <td>1x1</td>\n",
       "      <td>0.67</td>\n",
       "      <td>0.33</td>\n",
       "      <td>...</td>\n",
       "      <td>74</td>\n",
       "      <td>200</td>\n",
       "      <td>0</td>\n",
       "      <td>8</td>\n",
       "      <td>5</td>\n",
       "      <td>4</td>\n",
       "      <td>8</td>\n",
       "      <td>270</td>\n",
       "      <td>13</td>\n",
       "      <td>1</td>\n",
       "    </tr>\n",
       "    <tr>\n",
       "      <th>274</th>\n",
       "      <td>2023-10-22</td>\n",
       "      <td>28</td>\n",
       "      <td>RB Bragantino</td>\n",
       "      <td>Fluminense</td>\n",
       "      <td>RB Bragantino</td>\n",
       "      <td>RB Bragantino</td>\n",
       "      <td>1x0</td>\n",
       "      <td>1x0</td>\n",
       "      <td>0.00</td>\n",
       "      <td>1.00</td>\n",
       "      <td>...</td>\n",
       "      <td>84</td>\n",
       "      <td>426</td>\n",
       "      <td>0</td>\n",
       "      <td>4</td>\n",
       "      <td>8</td>\n",
       "      <td>5</td>\n",
       "      <td>4</td>\n",
       "      <td>509</td>\n",
       "      <td>12</td>\n",
       "      <td>2</td>\n",
       "    </tr>\n",
       "  </tbody>\n",
       "</table>\n",
       "<p>5 rows × 48 columns</p>\n",
       "</div>"
      ],
      "text/plain": [
       "    fixture.date  league.round teams.home.name      teams.away.name  \\\n",
       "270   2023-10-22            28        Flamengo        Vasco DA Gama   \n",
       "271   2023-10-21            28        Botafogo  Atletico Paranaense   \n",
       "272   2023-10-21            28       Sao Paulo               Gremio   \n",
       "273   2023-10-22            28     Corinthians      America Mineiro   \n",
       "274   2023-10-22            28   RB Bragantino           Fluminense   \n",
       "\n",
       "     previsao_time    result.team halftime_score fulltime_score  home.pf.drw  \\\n",
       "270       Flamengo       Flamengo            0x0            1x0         0.33   \n",
       "271       Botafogo         Empate            1x1            1x1         0.33   \n",
       "272      Sao Paulo      Sao Paulo            1x0            3x0         0.00   \n",
       "273    Corinthians         Empate            0x1            1x1         0.67   \n",
       "274  RB Bragantino  RB Bragantino            1x0            1x0         0.00   \n",
       "\n",
       "     home.pf.win  ...  away.PAS%  away.PASAC  away.RCD  away.SHFG  away.SHIN  \\\n",
       "270         0.33  ...         83         353         0          4         12   \n",
       "271         0.33  ...         77         156         0          4          2   \n",
       "272         0.67  ...         71         237         0          0          0   \n",
       "273         0.33  ...         74         200         0          8          5   \n",
       "274         1.00  ...         84         426         0          4          8   \n",
       "\n",
       "     away.SHOG  away.SHOU  away.TPAS  away.TSH  away.YCD  \n",
       "270          7          5        427        17         2  \n",
       "271          1          4        202         6         1  \n",
       "272          2          3        333         3         3  \n",
       "273          4          8        270        13         1  \n",
       "274          5          4        509        12         2  \n",
       "\n",
       "[5 rows x 48 columns]"
      ]
     },
     "execution_count": 15,
     "metadata": {},
     "output_type": "execute_result"
    }
   ],
   "source": [
    "df_previsao.head()"
   ]
  },
  {
   "cell_type": "markdown",
   "metadata": {},
   "source": [
    "### Output Resultados"
   ]
  },
  {
   "cell_type": "code",
   "execution_count": 14,
   "metadata": {},
   "outputs": [],
   "source": [
    "df_previsao.to_excel(\n",
    "    f'data/refined/previsao_brasileirao_{season}/predict_{datetime.now().strftime('%y%m%d %H%M%S')}.xlsx',\n",
    "    index=False\n",
    ")"
   ]
  }
 ],
 "metadata": {
  "kernelspec": {
   "display_name": "infnetSports",
   "language": "python",
   "name": "python3"
  },
  "language_info": {
   "codemirror_mode": {
    "name": "ipython",
    "version": 3
   },
   "file_extension": ".py",
   "mimetype": "text/x-python",
   "name": "python",
   "nbconvert_exporter": "python",
   "pygments_lexer": "ipython3",
   "version": "3.12.0"
  }
 },
 "nbformat": 4,
 "nbformat_minor": 2
}
